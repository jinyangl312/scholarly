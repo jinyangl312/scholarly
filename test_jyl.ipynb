{
 "cells": [
  {
   "cell_type": "code",
   "execution_count": 1,
   "metadata": {},
   "outputs": [],
   "source": [
    "from scholarly import scholarly\n",
    "from scholarly import ProxyGenerator"
   ]
  },
  {
   "cell_type": "code",
   "execution_count": 2,
   "metadata": {},
   "outputs": [],
   "source": [
    "pg = ProxyGenerator()\n",
    "pg.SingleProxy(http='localhost:7890')\n",
    "scholarly.use_proxy(pg)"
   ]
  },
  {
   "cell_type": "code",
   "execution_count": 3,
   "metadata": {},
   "outputs": [
    {
     "name": "stdout",
     "output_type": "stream",
     "text": [
      "{'container_type': 'Publication', 'source': <PublicationSource.PUBLICATION_SEARCH_SNIPPET: 'PUBLICATION_SEARCH_SNIPPET'>, 'bib': {'title': 'An introduction to identification', 'author': ['JP Norton'], 'pub_year': '2009', 'venue': 'NA', 'abstract': 'identification. In addition to the theoretical basis for mathematical modeling, it covers a variety  of tried-and-true identification  classical methods of identification—including impulse, step,'}, 'filled': False, 'date_back': -1, 'summary': '… identification. In addition to the theoretical basis for mathematical modeling, it covers a variety \\nof tried-and-true identification … classical methods of identification—including impulse, step, …', 'gsrank': 1, 'pub_url': 'https://books.google.com/books?hl=en&lr=&id=eyHC7751n_cC&oi=fnd&pg=PP1&dq=Identification+of&ots=Lpiw50ueDp&sig=ke33UGTfijJLapbcAcaqUMWrxcY', 'author_id': [''], 'url_scholarbib': '/scholar?q=info:OpcLLSVXpuQJ:scholar.google.com/&output=cite&scirp=0&hl=en', 'url_add_sclib': '/citations?hl=en&xsrf=&continue=/scholar%3Fq%3DIdentification%2Bof%26hl%3Den%26as_sdt%3D0,33&citilm=1&update_op=library_add&info=OpcLLSVXpuQJ&ei=vC0oY8GAMYHeyQSQ4pZo&json=', 'num_citations': 914, 'citedby_url': '/scholar?cites=16475952103962679098&as_sdt=5,33&sciodt=0,33&hl=en', 'url_related_articles': '/scholar?q=related:OpcLLSVXpuQJ:scholar.google.com/&scioq=Identification+of&hl=en&as_sdt=0,33'}\n"
     ]
    }
   ],
   "source": [
    "search_query = scholarly.search_pubs(\n",
    "        \"Identification of\")\n",
    "article = next(search_query)\n",
    "print(article)"
   ]
  },
  {
   "cell_type": "code",
   "execution_count": 4,
   "metadata": {},
   "outputs": [
    {
     "name": "stdout",
     "output_type": "stream",
     "text": [
      "{'container_type': 'Publication', 'source': <PublicationSource.PUBLICATION_SEARCH_SNIPPET: 'PUBLICATION_SEARCH_SNIPPET'>, 'bib': {'title': 'An introduction to identification', 'author': 'Norton, John P', 'pub_year': '2009', 'venue': 'NA', 'abstract': 'identification. In addition to the theoretical basis for mathematical modeling, it covers a variety  of tried-and-true identification  classical methods of identification—including impulse, step,', 'publisher': 'Courier Corporation', 'pub_type': 'book', 'bib_id': 'norton2009introduction'}, 'filled': True, 'date_back': -1, 'summary': '… identification. In addition to the theoretical basis for mathematical modeling, it covers a variety \\nof tried-and-true identification … classical methods of identification—including impulse, step, …', 'gsrank': 1, 'pub_url': 'https://books.google.com/books?hl=en&lr=&id=eyHC7751n_cC&oi=fnd&pg=PP1&dq=Identification+of&ots=Lpiw50ueDp&sig=ke33UGTfijJLapbcAcaqUMWrxcY', 'author_id': [''], 'url_scholarbib': '/scholar?q=info:OpcLLSVXpuQJ:scholar.google.com/&output=cite&scirp=0&hl=en', 'url_add_sclib': '/citations?hl=en&xsrf=&continue=/scholar%3Fq%3DIdentification%2Bof%26hl%3Den%26as_sdt%3D0,33&citilm=1&update_op=library_add&info=OpcLLSVXpuQJ&ei=vC0oY8GAMYHeyQSQ4pZo&json=', 'num_citations': 914, 'citedby_url': '/scholar?cites=16475952103962679098&as_sdt=5,33&sciodt=0,33&hl=en', 'url_related_articles': '/scholar?q=related:OpcLLSVXpuQJ:scholar.google.com/&scioq=Identification+of&hl=en&as_sdt=0,33'}\n"
     ]
    }
   ],
   "source": [
    "scholarly.fill(article)\n",
    "print(article)"
   ]
  },
  {
   "cell_type": "code",
   "execution_count": 5,
   "metadata": {},
   "outputs": [
    {
     "name": "stdout",
     "output_type": "stream",
     "text": [
      "{'container_type': 'Publication', 'source': <PublicationSource.PUBLICATION_SEARCH_SNIPPET: 'PUBLICATION_SEARCH_SNIPPET'>, 'bib': {'title': 'Linear matrix inequalities in system and control theory', 'author': ['S Boyd', 'L El Ghaoui', 'E Feron', 'V Balakrishnan'], 'pub_year': '1994', 'venue': 'NA', 'abstract': 'The basic topic of this book is solving problems from system and control theory using convex optimization. We show that a wide variety of problems arising in system and control theory'}, 'filled': False, 'date_back': -1, 'summary': 'The basic topic of this book is solving problems from system and control theory using convex optimization. We show that a wide variety of problems arising in system and control theory …', 'gsrank': 1, 'pub_url': 'https://epubs.siam.org/doi/pdf/10.1137/1.9781611970777.bm', 'author_id': ['GExyiRkAAAAJ', 'GDe65XEAAAAJ', 'wKvaIJgAAAAJ', 'XeDv_1IAAAAJ'], 'url_scholarbib': '/scholar?q=info:WBxQDoJLngcJ:scholar.google.com/&output=cite&scirp=0&hl=en', 'url_add_sclib': '/citations?hl=en&xsrf=&continue=/scholar%3Fhl%3Den%26as_sdt%3D5,33%26sciodt%3D0,33%26cites%3D16475952103962679098%26scipsc%3D&citilm=1&update_op=library_add&info=WBxQDoJLngcJ&ei=1C0oY8CkNpCXywSQl5vgDw&json=', 'num_citations': 26190, 'citedby_url': '/scholar?cites=548959226543742040&as_sdt=5,33&sciodt=0,33&hl=en', 'url_related_articles': '/scholar?q=related:WBxQDoJLngcJ:scholar.google.com/&scioq=&hl=en&as_sdt=5,33&sciodt=0,33', 'eprint_url': 'https://epubs.siam.org/doi/pdf/10.1137/1.9781611970777.bm'}\n"
     ]
    }
   ],
   "source": [
    "search_query = scholarly.citedby(article)\n",
    "query = next(search_query)\n",
    "print(query)"
   ]
  },
  {
   "cell_type": "code",
   "execution_count": 6,
   "metadata": {},
   "outputs": [
    {
     "name": "stdout",
     "output_type": "stream",
     "text": [
      "{'container_type': 'Publication', 'source': <PublicationSource.PUBLICATION_SEARCH_SNIPPET: 'PUBLICATION_SEARCH_SNIPPET'>, 'bib': {'title': 'Linear matrix inequalities in system and control theory', 'author': 'Boyd, Stephen and El Ghaoui, Laurent and Feron, Eric and Balakrishnan, Venkataramanan', 'pub_year': '1994', 'venue': 'NA', 'abstract': 'The basic topic of this book is solving problems from system and control theory using convex optimization. We show that a wide variety of problems arising in system and control theory', 'publisher': 'SIAM', 'pub_type': 'book', 'bib_id': 'boyd1994linear'}, 'filled': True, 'date_back': -1, 'summary': 'The basic topic of this book is solving problems from system and control theory using convex optimization. We show that a wide variety of problems arising in system and control theory …', 'gsrank': 1, 'pub_url': 'https://epubs.siam.org/doi/pdf/10.1137/1.9781611970777.bm', 'author_id': ['GExyiRkAAAAJ', 'GDe65XEAAAAJ', 'wKvaIJgAAAAJ', 'XeDv_1IAAAAJ'], 'url_scholarbib': '/scholar?q=info:WBxQDoJLngcJ:scholar.google.com/&output=cite&scirp=0&hl=en', 'url_add_sclib': '/citations?hl=en&xsrf=&continue=/scholar%3Fhl%3Den%26as_sdt%3D5,33%26sciodt%3D0,33%26cites%3D16475952103962679098%26scipsc%3D&citilm=1&update_op=library_add&info=WBxQDoJLngcJ&ei=1C0oY8CkNpCXywSQl5vgDw&json=', 'num_citations': 26190, 'citedby_url': '/scholar?cites=548959226543742040&as_sdt=5,33&sciodt=0,33&hl=en', 'url_related_articles': '/scholar?q=related:WBxQDoJLngcJ:scholar.google.com/&scioq=&hl=en&as_sdt=5,33&sciodt=0,33', 'eprint_url': 'https://epubs.siam.org/doi/pdf/10.1137/1.9781611970777.bm'}\n"
     ]
    }
   ],
   "source": [
    "scholarly.fill(query)\n",
    "print(query)"
   ]
  }
 ],
 "metadata": {
  "interpreter": {
   "hash": "b3ba2566441a7c06988d0923437866b63cedc61552a5af99d1f4fb67d367b25f"
  },
  "kernelspec": {
   "display_name": "Python 3.8.8 64-bit ('base': conda)",
   "name": "python3"
  },
  "language_info": {
   "codemirror_mode": {
    "name": "ipython",
    "version": 3
   },
   "file_extension": ".py",
   "mimetype": "text/x-python",
   "name": "python",
   "nbconvert_exporter": "python",
   "pygments_lexer": "ipython3",
   "version": "3.8.8"
  },
  "orig_nbformat": 4
 },
 "nbformat": 4,
 "nbformat_minor": 2
}
